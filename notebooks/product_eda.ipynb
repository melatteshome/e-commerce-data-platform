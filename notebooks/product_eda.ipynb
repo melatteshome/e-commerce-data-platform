{
 "cells": [
  {
   "cell_type": "markdown",
   "metadata": {},
   "source": [
    "# Product data EDA"
   ]
  },
  {
   "cell_type": "code",
   "execution_count": 2,
   "metadata": {},
   "outputs": [],
   "source": [
    "import pandas as pd\n",
    "import numpy as np\n",
    "import matplotlib.pyplot as plt\n",
    "import sys\n",
    "import os\n",
    "from dotenv import load_dotenv"
   ]
  },
  {
   "cell_type": "code",
   "execution_count": 3,
   "metadata": {},
   "outputs": [],
   "source": [
    "os.chdir('..')"
   ]
  },
  {
   "cell_type": "code",
   "execution_count": 4,
   "metadata": {},
   "outputs": [],
   "source": [
    "from src.data_ingestion.data_ingestion import read_csv_data_from_hadoop\n",
    "from src.utils.data_preprocessing import  is_missing_value , remove_missing_values, find_missing_values, find_outlier_box_plot ,find_outliers_IQR , remove_missing_values , remove_outliers , count_missing_values_per_column"
   ]
  },
  {
   "cell_type": "code",
   "execution_count": 5,
   "metadata": {},
   "outputs": [],
   "source": [
    "load_dotenv()\n",
    "hadoop_raw_data_path = os.getenv('hadoop_raw_data_path')\n",
    "product_data_path = '/product.csv'\n",
    "path = hadoop_raw_data_path + product_data_path"
   ]
  },
  {
   "cell_type": "code",
   "execution_count": 6,
   "metadata": {},
   "outputs": [],
   "source": [
    "#laod data from hadoop \n",
    "data = read_csv_data_from_hadoop(hadoop_data_directory=path)"
   ]
  },
  {
   "cell_type": "code",
   "execution_count": 7,
   "metadata": {},
   "outputs": [
    {
     "name": "stdout",
     "output_type": "stream",
     "text": [
      "+-----+------+--------------+-----------+-----------+----------+------+----+------+--------------------+\n",
      "|   id|gender|masterCategory|subCategory|articleType|baseColour|season|year| usage|  productDisplayName|\n",
      "+-----+------+--------------+-----------+-----------+----------+------+----+------+--------------------+\n",
      "|15970|   Men|       Apparel|    Topwear|     Shirts| Navy Blue|  Fall|2011|Casual|Turtle Check Men ...|\n",
      "|39386|   Men|       Apparel| Bottomwear|      Jeans|      Blue|Summer|2012|Casual|Peter England Men...|\n",
      "|59263| Women|   Accessories|    Watches|    Watches|    Silver|Winter|2016|Casual|Titan Women Silve...|\n",
      "|21379|   Men|       Apparel| Bottomwear|Track Pants|     Black|  Fall|2011|Casual|Manchester United...|\n",
      "|53759|   Men|       Apparel|    Topwear|    Tshirts|      Grey|Summer|2012|Casual|Puma Men Grey T-s...|\n",
      "+-----+------+--------------+-----------+-----------+----------+------+----+------+--------------------+\n",
      "only showing top 5 rows\n",
      "\n"
     ]
    }
   ],
   "source": [
    "data.show(5)"
   ]
  },
  {
   "cell_type": "code",
   "execution_count": 8,
   "metadata": {},
   "outputs": [
    {
     "data": {
      "text/html": [
       "<div>\n",
       "<style scoped>\n",
       "    .dataframe tbody tr th:only-of-type {\n",
       "        vertical-align: middle;\n",
       "    }\n",
       "\n",
       "    .dataframe tbody tr th {\n",
       "        vertical-align: top;\n",
       "    }\n",
       "\n",
       "    .dataframe thead th {\n",
       "        text-align: right;\n",
       "    }\n",
       "</style>\n",
       "<table border=\"1\" class=\"dataframe\">\n",
       "  <thead>\n",
       "    <tr style=\"text-align: right;\">\n",
       "      <th></th>\n",
       "      <th>id</th>\n",
       "      <th>gender</th>\n",
       "      <th>masterCategory</th>\n",
       "      <th>subCategory</th>\n",
       "      <th>articleType</th>\n",
       "      <th>baseColour</th>\n",
       "      <th>season</th>\n",
       "      <th>year</th>\n",
       "      <th>usage</th>\n",
       "      <th>productDisplayName</th>\n",
       "    </tr>\n",
       "  </thead>\n",
       "  <tbody>\n",
       "    <tr>\n",
       "      <th>0</th>\n",
       "      <td>15970</td>\n",
       "      <td>Men</td>\n",
       "      <td>Apparel</td>\n",
       "      <td>Topwear</td>\n",
       "      <td>Shirts</td>\n",
       "      <td>Navy Blue</td>\n",
       "      <td>Fall</td>\n",
       "      <td>2011.0</td>\n",
       "      <td>Casual</td>\n",
       "      <td>Turtle Check Men Navy Blue Shirt</td>\n",
       "    </tr>\n",
       "    <tr>\n",
       "      <th>1</th>\n",
       "      <td>39386</td>\n",
       "      <td>Men</td>\n",
       "      <td>Apparel</td>\n",
       "      <td>Bottomwear</td>\n",
       "      <td>Jeans</td>\n",
       "      <td>Blue</td>\n",
       "      <td>Summer</td>\n",
       "      <td>2012.0</td>\n",
       "      <td>Casual</td>\n",
       "      <td>Peter England Men Party Blue Jeans</td>\n",
       "    </tr>\n",
       "    <tr>\n",
       "      <th>2</th>\n",
       "      <td>59263</td>\n",
       "      <td>Women</td>\n",
       "      <td>Accessories</td>\n",
       "      <td>Watches</td>\n",
       "      <td>Watches</td>\n",
       "      <td>Silver</td>\n",
       "      <td>Winter</td>\n",
       "      <td>2016.0</td>\n",
       "      <td>Casual</td>\n",
       "      <td>Titan Women Silver Watch</td>\n",
       "    </tr>\n",
       "    <tr>\n",
       "      <th>3</th>\n",
       "      <td>21379</td>\n",
       "      <td>Men</td>\n",
       "      <td>Apparel</td>\n",
       "      <td>Bottomwear</td>\n",
       "      <td>Track Pants</td>\n",
       "      <td>Black</td>\n",
       "      <td>Fall</td>\n",
       "      <td>2011.0</td>\n",
       "      <td>Casual</td>\n",
       "      <td>Manchester United Men Solid Black Track Pants</td>\n",
       "    </tr>\n",
       "    <tr>\n",
       "      <th>4</th>\n",
       "      <td>53759</td>\n",
       "      <td>Men</td>\n",
       "      <td>Apparel</td>\n",
       "      <td>Topwear</td>\n",
       "      <td>Tshirts</td>\n",
       "      <td>Grey</td>\n",
       "      <td>Summer</td>\n",
       "      <td>2012.0</td>\n",
       "      <td>Casual</td>\n",
       "      <td>Puma Men Grey T-shirt</td>\n",
       "    </tr>\n",
       "  </tbody>\n",
       "</table>\n",
       "</div>"
      ],
      "text/plain": [
       "      id gender masterCategory subCategory  articleType baseColour  season  \\\n",
       "0  15970    Men        Apparel     Topwear       Shirts  Navy Blue    Fall   \n",
       "1  39386    Men        Apparel  Bottomwear        Jeans       Blue  Summer   \n",
       "2  59263  Women    Accessories     Watches      Watches     Silver  Winter   \n",
       "3  21379    Men        Apparel  Bottomwear  Track Pants      Black    Fall   \n",
       "4  53759    Men        Apparel     Topwear      Tshirts       Grey  Summer   \n",
       "\n",
       "     year   usage                             productDisplayName  \n",
       "0  2011.0  Casual               Turtle Check Men Navy Blue Shirt  \n",
       "1  2012.0  Casual             Peter England Men Party Blue Jeans  \n",
       "2  2016.0  Casual                       Titan Women Silver Watch  \n",
       "3  2011.0  Casual  Manchester United Men Solid Black Track Pants  \n",
       "4  2012.0  Casual                          Puma Men Grey T-shirt  "
      ]
     },
     "execution_count": 8,
     "metadata": {},
     "output_type": "execute_result"
    }
   ],
   "source": [
    "df = pd.DataFrame(data.take(data.count()), columns=data.columns)\n",
    "df.head(5)"
   ]
  },
  {
   "cell_type": "code",
   "execution_count": 9,
   "metadata": {},
   "outputs": [
    {
     "data": {
      "text/plain": [
       "(44446, 10)"
      ]
     },
     "execution_count": 9,
     "metadata": {},
     "output_type": "execute_result"
    }
   ],
   "source": [
    "df.shape"
   ]
  },
  {
   "cell_type": "code",
   "execution_count": 10,
   "metadata": {},
   "outputs": [
    {
     "data": {
      "text/plain": [
       "np.True_"
      ]
     },
     "execution_count": 10,
     "metadata": {},
     "output_type": "execute_result"
    }
   ],
   "source": [
    "#check if missing values exist in the dataset\n",
    "is_missing_value(df)\n"
   ]
  },
  {
   "cell_type": "code",
   "execution_count": null,
   "metadata": {},
   "outputs": [],
   "source": []
  },
  {
   "cell_type": "code",
   "execution_count": 12,
   "metadata": {},
   "outputs": [
    {
     "data": {
      "text/plain": [
       "id                     0\n",
       "gender                 0\n",
       "masterCategory         0\n",
       "subCategory            0\n",
       "articleType            0\n",
       "baseColour             0\n",
       "season                21\n",
       "year                   1\n",
       "usage                  1\n",
       "productDisplayName     0\n",
       "dtype: int64"
      ]
     },
     "execution_count": 12,
     "metadata": {},
     "output_type": "execute_result"
    }
   ],
   "source": [
    "# count column missing values\n",
    "count_missing_values_per_column(df)"
   ]
  },
  {
   "cell_type": "code",
   "execution_count": 18,
   "metadata": {},
   "outputs": [],
   "source": [
    "# drop missing values \n",
    "df = remove_missing_values(df)\n"
   ]
  },
  {
   "cell_type": "code",
   "execution_count": 20,
   "metadata": {},
   "outputs": [
    {
     "data": {
      "text/plain": [
       "id                      int64\n",
       "gender                 object\n",
       "masterCategory         object\n",
       "subCategory            object\n",
       "articleType            object\n",
       "baseColour             object\n",
       "season                 object\n",
       "year                  float64\n",
       "usage                  object\n",
       "productDisplayName     object\n",
       "dtype: object"
      ]
     },
     "execution_count": 20,
     "metadata": {},
     "output_type": "execute_result"
    }
   ],
   "source": [
    "df.dtypes\n"
   ]
  },
  {
   "cell_type": "code",
   "execution_count": 15,
   "metadata": {},
   "outputs": [
    {
     "data": {
      "image/png": "[encoded data removed]",
      "text/plain": [
       "<Figure size 640x480 with 1 Axes>"
      ]
     },
     "metadata": {},
     "output_type": "display_data"
    }
   ],
   "source": [
    "# plot bar chart for product category\n",
    "df['masterCategory'].value_counts().plot(kind='bar')\n",
    "plt.show()"
   ]
  },
  {
   "cell_type": "code",
   "execution_count": 16,
   "metadata": {},
   "outputs": [
    {
     "data": {
      "text/html": [
       "<div>\n",
       "<style scoped>\n",
       "    .dataframe tbody tr th:only-of-type {\n",
       "        vertical-align: middle;\n",
       "    }\n",
       "\n",
       "    .dataframe tbody tr th {\n",
       "        vertical-align: top;\n",
       "    }\n",
       "\n",
       "    .dataframe thead th {\n",
       "        text-align: right;\n",
       "    }\n",
       "</style>\n",
       "<table border=\"1\" class=\"dataframe\">\n",
       "  <thead>\n",
       "    <tr style=\"text-align: right;\">\n",
       "      <th></th>\n",
       "      <th>masterCategory</th>\n",
       "      <th>subCategory_count</th>\n",
       "      <th>subCategory_list</th>\n",
       "    </tr>\n",
       "  </thead>\n",
       "  <tbody>\n",
       "    <tr>\n",
       "      <th>0</th>\n",
       "      <td>Accessories</td>\n",
       "      <td>20</td>\n",
       "      <td>[Watches, Socks, Belts, Bags, Shoe Accessories...</td>\n",
       "    </tr>\n",
       "    <tr>\n",
       "      <th>1</th>\n",
       "      <td>Apparel</td>\n",
       "      <td>8</td>\n",
       "      <td>[Topwear, Bottomwear, Innerwear, Saree, Dress,...</td>\n",
       "    </tr>\n",
       "    <tr>\n",
       "      <th>2</th>\n",
       "      <td>Footwear</td>\n",
       "      <td>3</td>\n",
       "      <td>[Shoes, Flip Flops, Sandal]</td>\n",
       "    </tr>\n",
       "    <tr>\n",
       "      <th>3</th>\n",
       "      <td>Free Items</td>\n",
       "      <td>2</td>\n",
       "      <td>[Free Gifts, Vouchers]</td>\n",
       "    </tr>\n",
       "    <tr>\n",
       "      <th>4</th>\n",
       "      <td>Home</td>\n",
       "      <td>1</td>\n",
       "      <td>[Home Furnishing]</td>\n",
       "    </tr>\n",
       "    <tr>\n",
       "      <th>5</th>\n",
       "      <td>Personal Care</td>\n",
       "      <td>11</td>\n",
       "      <td>[Fragrance, Lips, Nails, Skin Care, Makeup, Sk...</td>\n",
       "    </tr>\n",
       "    <tr>\n",
       "      <th>6</th>\n",
       "      <td>Sporting Goods</td>\n",
       "      <td>2</td>\n",
       "      <td>[Sports Equipment, Wristbands]</td>\n",
       "    </tr>\n",
       "  </tbody>\n",
       "</table>\n",
       "</div>"
      ],
      "text/plain": [
       "   masterCategory  subCategory_count  \\\n",
       "0     Accessories                 20   \n",
       "1         Apparel                  8   \n",
       "2        Footwear                  3   \n",
       "3      Free Items                  2   \n",
       "4            Home                  1   \n",
       "5   Personal Care                 11   \n",
       "6  Sporting Goods                  2   \n",
       "\n",
       "                                    subCategory_list  \n",
       "0  [Watches, Socks, Belts, Bags, Shoe Accessories...  \n",
       "1  [Topwear, Bottomwear, Innerwear, Saree, Dress,...  \n",
       "2                        [Shoes, Flip Flops, Sandal]  \n",
       "3                             [Free Gifts, Vouchers]  \n",
       "4                                  [Home Furnishing]  \n",
       "5  [Fragrance, Lips, Nails, Skin Care, Makeup, Sk...  \n",
       "6                     [Sports Equipment, Wristbands]  "
      ]
     },
     "execution_count": 16,
     "metadata": {},
     "output_type": "execute_result"
    }
   ],
   "source": [
    "# aggregate data by master category\n",
    "master_category_aggregate = df.groupby('masterCategory').agg(\n",
    "    subCategory_count=('subCategory', 'nunique'),\n",
    "    subCategory_list=('subCategory', lambda x: list(x.unique()))\n",
    "\n",
    ").reset_index()\n",
    "master_category_aggregate"
   ]
  },
  {
   "cell_type": "code",
   "execution_count": 21,
   "metadata": {},
   "outputs": [
    {
     "data": {
      "text/html": [
       "<div>\n",
       "<style scoped>\n",
       "    .dataframe tbody tr th:only-of-type {\n",
       "        vertical-align: middle;\n",
       "    }\n",
       "\n",
       "    .dataframe tbody tr th {\n",
       "        vertical-align: top;\n",
       "    }\n",
       "\n",
       "    .dataframe thead th {\n",
       "        text-align: right;\n",
       "    }\n",
       "</style>\n",
       "<table border=\"1\" class=\"dataframe\">\n",
       "  <thead>\n",
       "    <tr style=\"text-align: right;\">\n",
       "      <th></th>\n",
       "      <th>usage</th>\n",
       "      <th>subCategory_count</th>\n",
       "      <th>subCategory_list</th>\n",
       "    </tr>\n",
       "  </thead>\n",
       "  <tbody>\n",
       "    <tr>\n",
       "      <th>0</th>\n",
       "      <td>Casual</td>\n",
       "      <td>43</td>\n",
       "      <td>[Topwear, Bottomwear, Watches, Socks, Shoes, B...</td>\n",
       "    </tr>\n",
       "    <tr>\n",
       "      <th>1</th>\n",
       "      <td>Ethnic</td>\n",
       "      <td>12</td>\n",
       "      <td>[Topwear, Saree, Apparel Set, Jewellery, Botto...</td>\n",
       "    </tr>\n",
       "    <tr>\n",
       "      <th>2</th>\n",
       "      <td>Formal</td>\n",
       "      <td>14</td>\n",
       "      <td>[Topwear, Shoes, Belts, Bottomwear, Ties, Free...</td>\n",
       "    </tr>\n",
       "    <tr>\n",
       "      <th>3</th>\n",
       "      <td>Home</td>\n",
       "      <td>1</td>\n",
       "      <td>[Home Furnishing]</td>\n",
       "    </tr>\n",
       "    <tr>\n",
       "      <th>4</th>\n",
       "      <td>NA</td>\n",
       "      <td>16</td>\n",
       "      <td>[Nails, Topwear, Lips, Loungewear and Nightwea...</td>\n",
       "    </tr>\n",
       "    <tr>\n",
       "      <th>5</th>\n",
       "      <td>Party</td>\n",
       "      <td>8</td>\n",
       "      <td>[Dress, Bags, Shoes, Topwear, Free Gifts, Watc...</td>\n",
       "    </tr>\n",
       "    <tr>\n",
       "      <th>6</th>\n",
       "      <td>Smart Casual</td>\n",
       "      <td>9</td>\n",
       "      <td>[Topwear, Bottomwear, Shoes, Dress, Watches, W...</td>\n",
       "    </tr>\n",
       "    <tr>\n",
       "      <th>7</th>\n",
       "      <td>Sports</td>\n",
       "      <td>19</td>\n",
       "      <td>[Topwear, Shoes, Bottomwear, Bags, Watches, He...</td>\n",
       "    </tr>\n",
       "    <tr>\n",
       "      <th>8</th>\n",
       "      <td>Travel</td>\n",
       "      <td>2</td>\n",
       "      <td>[Bags, Topwear]</td>\n",
       "    </tr>\n",
       "  </tbody>\n",
       "</table>\n",
       "</div>"
      ],
      "text/plain": [
       "          usage  subCategory_count  \\\n",
       "0        Casual                 43   \n",
       "1        Ethnic                 12   \n",
       "2        Formal                 14   \n",
       "3          Home                  1   \n",
       "4            NA                 16   \n",
       "5         Party                  8   \n",
       "6  Smart Casual                  9   \n",
       "7        Sports                 19   \n",
       "8        Travel                  2   \n",
       "\n",
       "                                    subCategory_list  \n",
       "0  [Topwear, Bottomwear, Watches, Socks, Shoes, B...  \n",
       "1  [Topwear, Saree, Apparel Set, Jewellery, Botto...  \n",
       "2  [Topwear, Shoes, Belts, Bottomwear, Ties, Free...  \n",
       "3                                  [Home Furnishing]  \n",
       "4  [Nails, Topwear, Lips, Loungewear and Nightwea...  \n",
       "5  [Dress, Bags, Shoes, Topwear, Free Gifts, Watc...  \n",
       "6  [Topwear, Bottomwear, Shoes, Dress, Watches, W...  \n",
       "7  [Topwear, Shoes, Bottomwear, Bags, Watches, He...  \n",
       "8                                    [Bags, Topwear]  "
      ]
     },
     "execution_count": 21,
     "metadata": {},
     "output_type": "execute_result"
    }
   ],
   "source": [
    "# aggregate by usage\n",
    "usage_aggregate = df.groupby('usage').agg(\n",
    "    subCategory_count=('subCategory', 'nunique'),\n",
    "    subCategory_list=('subCategory', lambda x: list(x.unique()))\n",
    "\n",
    ").reset_index()\n",
    "usage_aggregate"
   ]
  },
  {
   "cell_type": "code",
   "execution_count": null,
   "metadata": {},
   "outputs": [
    {
     "name": "stdout",
     "output_type": "stream",
     "text": [
      "   season                                        subCategory\n",
      "0    Fall  [Topwear, Bottomwear, Flip Flops, Sandal, Belt...\n",
      "1  Spring  [Fragrance, Lips, Nails, Shoes, Skin Care, Top...\n",
      "2  Summer  [Bottomwear, Topwear, Socks, Shoes, Belts, Bag...\n",
      "3  Winter  [Watches, Shoes, Jewellery, Bags, Innerwear, E...\n"
     ]
    }
   ],
   "source": [
    "#aggregate by season \n",
    "\n",
    "season_aggregate = df.groupby('season').agg({\n",
    "    'subCategory': 'nunique',\n",
    "    # 'subCategory': lambda x: list(x.unique())\n",
    "}).reset_index()\n",
    "print(season_aggregate)"
   ]
  },
  {
   "cell_type": "code",
   "execution_count": null,
   "metadata": {},
   "outputs": [],
   "source": [
    "#"
   ]
  }
 ],
 "metadata": {
  "kernelspec": {
   "display_name": "myenv",
   "language": "python",
   "name": "python3"
  },
  "language_info": {
   "codemirror_mode": {
    "name": "ipython",
    "version": 3
   },
   "file_extension": ".py",
   "mimetype": "text/x-python",
   "name": "python",
   "nbconvert_exporter": "python",
   "pygments_lexer": "ipython3",
   "version": "3.12.0"
  }
 },
 "nbformat": 4,
 "nbformat_minor": 2
}
