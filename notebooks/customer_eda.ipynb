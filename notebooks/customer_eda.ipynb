{
 "cells": [
  {
   "cell_type": "markdown",
   "metadata": {},
   "source": []
  },
  {
   "cell_type": "markdown",
   "metadata": {},
   "source": [
    "# Data Cleaning \n"
   ]
  },
  {
   "cell_type": "code",
   "execution_count": 2,
   "metadata": {},
   "outputs": [],
   "source": [
    "import pandas as pd\n",
    "import numpy as np \n",
    "import os \n",
    "from pyspark.sql import SparkSession\n",
    "from dotenv import load_dotenv\n",
    "from datetime  import datetime\n",
    "import matplotlib.pyplot as plt\n"
   ]
  },
  {
   "cell_type": "code",
   "execution_count": 3,
   "metadata": {},
   "outputs": [],
   "source": [
    "os.chdir('..')"
   ]
  },
  {
   "cell_type": "code",
   "execution_count": 4,
   "metadata": {},
   "outputs": [
    {
     "ename": "ImportError",
     "evalue": "cannot import name 'drop_outlier_columns' from 'src.utils.data_preprocessing' (c:\\Users\\Mulan\\Documents\\DA Projects\\E-commerce_Data_Platfrorm\\src\\utils\\data_preprocessing.py)",
     "output_type": "error",
     "traceback": [
      "\u001b[31m---------------------------------------------------------------------------\u001b[39m",
      "\u001b[31mImportError\u001b[39m                               Traceback (most recent call last)",
      "\u001b[36mCell\u001b[39m\u001b[36m \u001b[39m\u001b[32mIn[4]\u001b[39m\u001b[32m, line 2\u001b[39m\n\u001b[32m      1\u001b[39m \u001b[38;5;28;01mfrom\u001b[39;00m\u001b[38;5;250m \u001b[39m\u001b[34;01msrc\u001b[39;00m\u001b[34;01m.\u001b[39;00m\u001b[34;01mdata_ingestion\u001b[39;00m\u001b[34;01m.\u001b[39;00m\u001b[34;01mdata_ingestion\u001b[39;00m\u001b[38;5;250m \u001b[39m\u001b[38;5;28;01mimport\u001b[39;00m load_csv_to_hadoop , read_csv_data_from_hadoop\n\u001b[32m----> \u001b[39m\u001b[32m2\u001b[39m \u001b[38;5;28;01mfrom\u001b[39;00m\u001b[38;5;250m \u001b[39m\u001b[34;01msrc\u001b[39;00m\u001b[34;01m.\u001b[39;00m\u001b[34;01mutils\u001b[39;00m\u001b[34;01m.\u001b[39;00m\u001b[34;01mdata_preprocessing\u001b[39;00m\u001b[38;5;250m \u001b[39m\u001b[38;5;28;01mimport\u001b[39;00m is_missing_value, remove_outliers , find_outlier_box_plot , find_outliers_IQR , drop_outlier_columns\n",
      "\u001b[31mImportError\u001b[39m: cannot import name 'drop_outlier_columns' from 'src.utils.data_preprocessing' (c:\\Users\\Mulan\\Documents\\DA Projects\\E-commerce_Data_Platfrorm\\src\\utils\\data_preprocessing.py)"
     ]
    }
   ],
   "source": [
    "from src.data_ingestion.data_ingestion import load_csv_to_hadoop , read_csv_data_from_hadoop\n",
    "from src.utils.data_preprocessing import is_missing_value, remove_outliers , find_outlier_box_plot , find_outliers_IQR , drop_outlier_columns"
   ]
  },
  {
   "cell_type": "code",
   "execution_count": null,
   "metadata": {},
   "outputs": [],
   "source": [
    "load_dotenv()\n",
    "hadoop_raw_data_path = os.getenv('hadoop_raw_data_path')\n",
    "customer_data_path ='/customer.csv'\n",
    "path = hadoop_raw_data_path + customer_data_path"
   ]
  },
  {
   "cell_type": "code",
   "execution_count": null,
   "metadata": {},
   "outputs": [],
   "source": [
    "\n",
    "\n",
    "data = read_csv_data_from_hadoop(hadoop_data_directory= path)"
   ]
  },
  {
   "cell_type": "code",
   "execution_count": null,
   "metadata": {},
   "outputs": [
    {
     "name": "stdout",
     "output_type": "stream",
     "text": [
      "+-----------+----------+-----------+--------------------+--------------------+------+----------+-----------+--------------------+--------------------+-------------------+------------------+-------------------+------------+---------------+\n",
      "|customer_id|first_name|  last_name|            username|               email|gender| birthdate|device_type|           device_id|      device_version|  home_location_lat|home_location_long|      home_location|home_country|first_join_date|\n",
      "+-----------+----------+-----------+--------------------+--------------------+------+----------+-----------+--------------------+--------------------+-------------------+------------------+-------------------+------------+---------------+\n",
      "|       2870|      Lala|    Maryati|671a0865-ac4e-4dc...|671a0865_ac4e_4dc...|     F|1996-06-14|        iOS|c9c0de76-0a6c-4ac...|iPhone; CPU iPhon...|-1.0433453720910766| 101.3605227696372|     Sumatera Barat|   Indonesia|     2019-07-21|\n",
      "|       8193|  Maimunah| Laksmiwati|83be2ba7-8133-48a...|83be2ba7_8133_48a...|     F|1993-08-16|    Android|fb331c3d-f42e-40f...|       Android 2.2.1| -6.212489016878175| 106.8188498540855|       Jakarta Raya|   Indonesia|     2017-07-16|\n",
      "|       7279|   Bakiman|Simanjuntak|3250e5a3-1d23-467...|3250e5a3_1d23_467...|     M|1989-01-23|        iOS|d13dde0a-6ae1-43c...|iPad; CPU iPad OS...|  -8.63160723349251|116.42843637818967|Nusa Tenggara Barat|   Indonesia|     2020-08-23|\n",
      "|      88813|   Cahyadi|  Maheswara|df797edf-b465-4a8...|df797edf_b465_4a8...|     M|1991-01-05|        iOS|f4c18515-c5be-419...|iPad; CPU iPad OS...|  1.299331548410267|115.77493359652368|   Kalimantan Timur|   Indonesia|     2021-10-03|\n",
      "|      82542|   Irnanto|     Wijaya|36ab08e1-03de-42a...|36ab08e1_03de_42a...|     M|2000-07-15|        iOS|e46e4c36-4630-473...|iPhone; CPU iPhon...|  -2.98080666922999|114.92467456540761| Kalimantan Selatan|   Indonesia|     2021-04-11|\n",
      "|       5440|     Nadia|   Suartini|7bb470a0-4824-4b2...|7bb470a0_4824_4b2...|     F|1989-01-09|    Android|bcb06a05-2535-483...|       Android 4.0.4| -6.277890978309274|106.78653764013929|       Jakarta Raya|   Indonesia|     2021-05-30|\n",
      "|      90319|    Banara|     Wijaya|79c0c343-3ef3-486...|79c0c343_3ef3_486...|     M|1990-01-12|    Android|4c110df9-59b6-471...|       Android 8.1.0| 0.8693519287272213| 103.8736679718759|     Kepulauan Riau|   Indonesia|     2019-12-14|\n",
      "|      96453|     Talia|    Hastuti|44e67d0f-4743-479...|44e67d0f_4743_479...|     F|2005-02-12|    Android|eba4a196-7133-4da...|         Android 4.2|-3.9082568300863967|102.48690905372818|           Bengkulu|   Indonesia|     2022-01-09|\n",
      "|       8031|       Ana| Laksmiwati|c5969dbf-c32b-428...|c5969dbf_c32b_428...|     F|1995-11-01|        iOS|17545c14-a543-43a...|iPad; CPU iPad OS...|  -6.97459368901933|107.63448751443629|         Jawa Barat|   Indonesia|     2019-09-12|\n",
      "|      61533|   Adiarja|      Utama|57497894-0738-4bc...|57497894_0738_4bc...|     M|1987-02-28|    Android|95a24899-f5f1-433...|       Android 4.0.1| -8.386213886379368|120.66565562916628|Nusa Tenggara Timur|   Indonesia|     2020-01-27|\n",
      "|      72203|     Nalar|    Kuswoyo|286f6be7-6d84-4d1...|286f6be7_6d84_4d1...|     M|1982-04-30|    Android|cae11e7e-688d-480...|       Android 2.2.2|-7.9381795640829935|110.37237226427003|         Yogyakarta|   Indonesia|     2017-09-02|\n",
      "|      74362|      Nova|    Rahimah|d60409c5-059c-43a...|d60409c5_059c_43a...|     F|1996-03-30|    Android|2c184eea-062c-4d0...|         Android 2.3| -6.247470508389926|106.85192708698293|       Jakarta Raya|   Indonesia|     2022-06-18|\n",
      "|       9152|    Olivia|    Hariyah|9f6bf5e5-c8dc-468...|9f6bf5e5_c8dc_468...|     F|1995-12-10|        iOS|33aaf2ae-54c2-45e...|iPad; CPU iPad OS...|  -7.88565814536488|110.04226456593805|         Yogyakarta|   Indonesia|     2019-11-21|\n",
      "|      22199|    Ridwan|    Nugroho|269834ea-f06d-4b0...|269834ea_f06d_4b0...|     M|1986-07-02|    Android|161d6d87-cd07-4e0...|       Android 7.1.1|  -6.20637661926833|106.87644194293023|       Jakarta Raya|   Indonesia|     2019-11-24|\n",
      "|      94370|     Septi|   Winarsih|964732f6-88fb-48c...|964732f6_88fb_48c...|     F|1998-06-28|    Android|38766a93-4a69-461...|       Android 4.0.4| -7.783962335751469|113.86948770855749|         Jawa Timur|   Indonesia|     2018-02-24|\n",
      "|      73093|     Elisa| Novitasari|5d54a0ed-214b-40f...|5d54a0ed_214b_40f...|     F|1992-01-06|    Android|1e00f9e6-7011-4e6...|       Android 2.3.3| -7.377200952991048|108.94710054720147|        Jawa Tengah|   Indonesia|     2021-07-24|\n",
      "|      72106|     Zulfa|    Laksita|70ad4099-759e-47f...|70ad4099_759e_47f...|     F|2001-02-23|        iOS|ebe9c4d7-42a0-422...|iPhone; CPU iPhon...| -6.169364045662672| 106.9366568711092|       Jakarta Raya|   Indonesia|     2021-05-01|\n",
      "|      97883|     Septi|   Nasyidah|45fd1317-3b65-4cc...|45fd1317_3b65_4cc...|     F|1999-08-24|    Android|3bb9ea51-923f-40b...|       Android 4.1.2| -6.220949437282269|106.78324129608703|       Jakarta Raya|   Indonesia|     2017-07-30|\n",
      "|       3434|      Umay|    Damanik|11f16a84-7630-4ef...|11f16a84_7630_4ef...|     M|1998-01-18|    Android|fadaaa1d-eb56-428...|       Android 3.2.6|-3.2921534196124345|  121.067642742083|  Sulawesi Tenggara|   Indonesia|     2017-06-04|\n",
      "|      31163|    Keisha|   Winarsih|f5f4a919-0ff5-40b...|f5f4a919_0ff5_40b...|     F|2003-04-11|    Android|a0d92ed5-c9df-4b0...|          Android 11| -5.484917598063758| 105.8117816581955|            Lampung|   Indonesia|     2020-03-08|\n",
      "+-----------+----------+-----------+--------------------+--------------------+------+----------+-----------+--------------------+--------------------+-------------------+------------------+-------------------+------------+---------------+\n",
      "only showing top 20 rows\n",
      "\n"
     ]
    }
   ],
   "source": [
    "\n",
    "data.show()     "
   ]
  },
  {
   "cell_type": "code",
   "execution_count": null,
   "metadata": {},
   "outputs": [
    {
     "data": {
      "text/html": [
       "<div>\n",
       "<style scoped>\n",
       "    .dataframe tbody tr th:only-of-type {\n",
       "        vertical-align: middle;\n",
       "    }\n",
       "\n",
       "    .dataframe tbody tr th {\n",
       "        vertical-align: top;\n",
       "    }\n",
       "\n",
       "    .dataframe thead th {\n",
       "        text-align: right;\n",
       "    }\n",
       "</style>\n",
       "<table border=\"1\" class=\"dataframe\">\n",
       "  <thead>\n",
       "    <tr style=\"text-align: right;\">\n",
       "      <th></th>\n",
       "      <th>customer_id</th>\n",
       "      <th>first_name</th>\n",
       "      <th>last_name</th>\n",
       "      <th>username</th>\n",
       "      <th>email</th>\n",
       "      <th>gender</th>\n",
       "      <th>birthdate</th>\n",
       "      <th>device_type</th>\n",
       "      <th>device_id</th>\n",
       "      <th>device_version</th>\n",
       "      <th>home_location_lat</th>\n",
       "      <th>home_location_long</th>\n",
       "      <th>home_location</th>\n",
       "      <th>home_country</th>\n",
       "      <th>first_join_date</th>\n",
       "    </tr>\n",
       "  </thead>\n",
       "  <tbody>\n",
       "    <tr>\n",
       "      <th>0</th>\n",
       "      <td>2870</td>\n",
       "      <td>Lala</td>\n",
       "      <td>Maryati</td>\n",
       "      <td>671a0865-ac4e-4dc4-9c4f-c286a1176f7e</td>\n",
       "      <td>671a0865_ac4e_4dc4_9c4f_c286a1176f7e@startupca...</td>\n",
       "      <td>F</td>\n",
       "      <td>1996-06-14</td>\n",
       "      <td>iOS</td>\n",
       "      <td>c9c0de76-0a6c-4ac2-843f-65264ab9fe63</td>\n",
       "      <td>iPhone; CPU iPhone OS 14_2_1 like Mac OS X</td>\n",
       "      <td>-1.043345</td>\n",
       "      <td>101.360523</td>\n",
       "      <td>Sumatera Barat</td>\n",
       "      <td>Indonesia</td>\n",
       "      <td>2019-07-21</td>\n",
       "    </tr>\n",
       "    <tr>\n",
       "      <th>1</th>\n",
       "      <td>8193</td>\n",
       "      <td>Maimunah</td>\n",
       "      <td>Laksmiwati</td>\n",
       "      <td>83be2ba7-8133-48a4-bbcb-b46a2762473f</td>\n",
       "      <td>83be2ba7_8133_48a4_bbcb_b46a2762473f@zakyfound...</td>\n",
       "      <td>F</td>\n",
       "      <td>1993-08-16</td>\n",
       "      <td>Android</td>\n",
       "      <td>fb331c3d-f42e-40fe-afe2-b4b73a8a6e25</td>\n",
       "      <td>Android 2.2.1</td>\n",
       "      <td>-6.212489</td>\n",
       "      <td>106.818850</td>\n",
       "      <td>Jakarta Raya</td>\n",
       "      <td>Indonesia</td>\n",
       "      <td>2017-07-16</td>\n",
       "    </tr>\n",
       "    <tr>\n",
       "      <th>2</th>\n",
       "      <td>7279</td>\n",
       "      <td>Bakiman</td>\n",
       "      <td>Simanjuntak</td>\n",
       "      <td>3250e5a3-1d23-4675-a647-3281879d42be</td>\n",
       "      <td>3250e5a3_1d23_4675_a647_3281879d42be@startupca...</td>\n",
       "      <td>M</td>\n",
       "      <td>1989-01-23</td>\n",
       "      <td>iOS</td>\n",
       "      <td>d13dde0a-6ae1-43c3-83a7-11bbb922730b</td>\n",
       "      <td>iPad; CPU iPad OS 4_2_1 like Mac OS X</td>\n",
       "      <td>-8.631607</td>\n",
       "      <td>116.428436</td>\n",
       "      <td>Nusa Tenggara Barat</td>\n",
       "      <td>Indonesia</td>\n",
       "      <td>2020-08-23</td>\n",
       "    </tr>\n",
       "    <tr>\n",
       "      <th>3</th>\n",
       "      <td>88813</td>\n",
       "      <td>Cahyadi</td>\n",
       "      <td>Maheswara</td>\n",
       "      <td>df797edf-b465-4a80-973b-9fbb612260c2</td>\n",
       "      <td>df797edf_b465_4a80_973b_9fbb612260c2@zakyfound...</td>\n",
       "      <td>M</td>\n",
       "      <td>1991-01-05</td>\n",
       "      <td>iOS</td>\n",
       "      <td>f4c18515-c5be-419f-8142-f037be47c9cd</td>\n",
       "      <td>iPad; CPU iPad OS 14_2 like Mac OS X</td>\n",
       "      <td>1.299332</td>\n",
       "      <td>115.774934</td>\n",
       "      <td>Kalimantan Timur</td>\n",
       "      <td>Indonesia</td>\n",
       "      <td>2021-10-03</td>\n",
       "    </tr>\n",
       "    <tr>\n",
       "      <th>4</th>\n",
       "      <td>82542</td>\n",
       "      <td>Irnanto</td>\n",
       "      <td>Wijaya</td>\n",
       "      <td>36ab08e1-03de-42a8-9e3b-59528c798824</td>\n",
       "      <td>36ab08e1_03de_42a8_9e3b_59528c798824@startupca...</td>\n",
       "      <td>M</td>\n",
       "      <td>2000-07-15</td>\n",
       "      <td>iOS</td>\n",
       "      <td>e46e4c36-4630-4736-8fcf-663db29ca3b0</td>\n",
       "      <td>iPhone; CPU iPhone OS 10_3_3 like Mac OS X</td>\n",
       "      <td>-2.980807</td>\n",
       "      <td>114.924675</td>\n",
       "      <td>Kalimantan Selatan</td>\n",
       "      <td>Indonesia</td>\n",
       "      <td>2021-04-11</td>\n",
       "    </tr>\n",
       "  </tbody>\n",
       "</table>\n",
       "</div>"
      ],
      "text/plain": [
       "   customer_id first_name    last_name                              username  \\\n",
       "0         2870       Lala      Maryati  671a0865-ac4e-4dc4-9c4f-c286a1176f7e   \n",
       "1         8193   Maimunah   Laksmiwati  83be2ba7-8133-48a4-bbcb-b46a2762473f   \n",
       "2         7279    Bakiman  Simanjuntak  3250e5a3-1d23-4675-a647-3281879d42be   \n",
       "3        88813    Cahyadi    Maheswara  df797edf-b465-4a80-973b-9fbb612260c2   \n",
       "4        82542    Irnanto       Wijaya  36ab08e1-03de-42a8-9e3b-59528c798824   \n",
       "\n",
       "                                               email gender   birthdate  \\\n",
       "0  671a0865_ac4e_4dc4_9c4f_c286a1176f7e@startupca...      F  1996-06-14   \n",
       "1  83be2ba7_8133_48a4_bbcb_b46a2762473f@zakyfound...      F  1993-08-16   \n",
       "2  3250e5a3_1d23_4675_a647_3281879d42be@startupca...      M  1989-01-23   \n",
       "3  df797edf_b465_4a80_973b_9fbb612260c2@zakyfound...      M  1991-01-05   \n",
       "4  36ab08e1_03de_42a8_9e3b_59528c798824@startupca...      M  2000-07-15   \n",
       "\n",
       "  device_type                             device_id  \\\n",
       "0         iOS  c9c0de76-0a6c-4ac2-843f-65264ab9fe63   \n",
       "1     Android  fb331c3d-f42e-40fe-afe2-b4b73a8a6e25   \n",
       "2         iOS  d13dde0a-6ae1-43c3-83a7-11bbb922730b   \n",
       "3         iOS  f4c18515-c5be-419f-8142-f037be47c9cd   \n",
       "4         iOS  e46e4c36-4630-4736-8fcf-663db29ca3b0   \n",
       "\n",
       "                               device_version  home_location_lat  \\\n",
       "0  iPhone; CPU iPhone OS 14_2_1 like Mac OS X          -1.043345   \n",
       "1                               Android 2.2.1          -6.212489   \n",
       "2       iPad; CPU iPad OS 4_2_1 like Mac OS X          -8.631607   \n",
       "3        iPad; CPU iPad OS 14_2 like Mac OS X           1.299332   \n",
       "4  iPhone; CPU iPhone OS 10_3_3 like Mac OS X          -2.980807   \n",
       "\n",
       "   home_location_long        home_location home_country first_join_date  \n",
       "0          101.360523       Sumatera Barat    Indonesia      2019-07-21  \n",
       "1          106.818850         Jakarta Raya    Indonesia      2017-07-16  \n",
       "2          116.428436  Nusa Tenggara Barat    Indonesia      2020-08-23  \n",
       "3          115.774934     Kalimantan Timur    Indonesia      2021-10-03  \n",
       "4          114.924675   Kalimantan Selatan    Indonesia      2021-04-11  "
      ]
     },
     "execution_count": 7,
     "metadata": {},
     "output_type": "execute_result"
    }
   ],
   "source": [
    "df = pd.DataFrame(data.take(data.count()), columns=data.columns)\n",
    "df.head()"
   ]
  },
  {
   "cell_type": "code",
   "execution_count": null,
   "metadata": {},
   "outputs": [
    {
     "data": {
      "text/plain": [
       "(100000, 15)"
      ]
     },
     "execution_count": 8,
     "metadata": {},
     "output_type": "execute_result"
    }
   ],
   "source": [
    "df.shape"
   ]
  },
  {
   "cell_type": "code",
   "execution_count": null,
   "metadata": {},
   "outputs": [
    {
     "data": {
      "text/plain": [
       "np.False_"
      ]
     },
     "execution_count": 9,
     "metadata": {},
     "output_type": "execute_result"
    }
   ],
   "source": [
    "is_missing_value(df)"
   ]
  },
  {
   "cell_type": "code",
   "execution_count": null,
   "metadata": {},
   "outputs": [
    {
     "data": {
      "text/plain": [
       "customer_id             int64\n",
       "first_name             object\n",
       "last_name              object\n",
       "username               object\n",
       "email                  object\n",
       "gender                 object\n",
       "birthdate              object\n",
       "device_type            object\n",
       "device_id              object\n",
       "device_version         object\n",
       "home_location_lat     float64\n",
       "home_location_long    float64\n",
       "home_location          object\n",
       "home_country           object\n",
       "first_join_date        object\n",
       "dtype: object"
      ]
     },
     "execution_count": 10,
     "metadata": {},
     "output_type": "execute_result"
    }
   ],
   "source": [
    "df.dtypes"
   ]
  },
  {
   "cell_type": "code",
   "execution_count": null,
   "metadata": {},
   "outputs": [
    {
     "name": "stdout",
     "output_type": "stream",
     "text": [
      "All rows have valid gender values (F or M).\n"
     ]
    }
   ],
   "source": [
    "# check if the column gender has values other than female or male (F or M)\n",
    "\n",
    "allowed_values = {\"F\", 'f', 'M', 'm'}\n",
    "invalid_rows = df[~df['gender'].isin(allowed_values)]\n",
    "\n",
    "if not invalid_rows.empty:\n",
    "    print(\"Found rows with invalid gender values:\")\n",
    "    print(invalid_rows)\n",
    "else:\n",
    "    print(\"All rows have valid gender values (F or M).\")\n"
   ]
  },
  {
   "cell_type": "code",
   "execution_count": null,
   "metadata": {},
   "outputs": [],
   "source": [
    "# data type conversion\n",
    "df['birthdate'] = pd.to_datetime(df['birthdate'], errors='coerce')\n",
    "df['first_join_date'] = pd.to_datetime(df['first_join_date'], errors='coerce')\n",
    "\n",
    "# converting the following columns to category data type to save memory\n",
    "\n",
    "df['gender'] = df['gender'].astype('category')\n",
    "df['device_type'] = df['device_type'].astype('category')\n",
    "df['home_country'] = df['home_country'].astype('category')"
   ]
  },
  {
   "cell_type": "code",
   "execution_count": null,
   "metadata": {},
   "outputs": [
    {
     "data": {
      "image/png": "[encoded data removed]",
      "text/plain": [
       "<Figure size 800x600 with 1 Axes>"
      ]
     },
     "metadata": {},
     "output_type": "display_data"
    }
   ],
   "source": [
    "# check for outliers in the age column derived from the birthdate column\n",
    "today = pd.Timestamp.today()\n",
    "df['age'] = ((today - df['birthdate']).dt.days / 365).astype(int)\n",
    "find_outlier_box_plot(df=df, column='age')"
   ]
  },
  {
   "cell_type": "code",
   "execution_count": null,
   "metadata": {},
   "outputs": [
    {
     "data": {
      "text/html": [
       "<div>\n",
       "<style scoped>\n",
       "    .dataframe tbody tr th:only-of-type {\n",
       "        vertical-align: middle;\n",
       "    }\n",
       "\n",
       "    .dataframe tbody tr th {\n",
       "        vertical-align: top;\n",
       "    }\n",
       "\n",
       "    .dataframe thead th {\n",
       "        text-align: right;\n",
       "    }\n",
       "</style>\n",
       "<table border=\"1\" class=\"dataframe\">\n",
       "  <thead>\n",
       "    <tr style=\"text-align: right;\">\n",
       "      <th></th>\n",
       "      <th>customer_id</th>\n",
       "      <th>first_name</th>\n",
       "      <th>last_name</th>\n",
       "      <th>username</th>\n",
       "      <th>email</th>\n",
       "      <th>gender</th>\n",
       "      <th>birthdate</th>\n",
       "      <th>device_type</th>\n",
       "      <th>device_id</th>\n",
       "      <th>device_version</th>\n",
       "      <th>home_location_lat</th>\n",
       "      <th>home_location_long</th>\n",
       "      <th>home_location</th>\n",
       "      <th>home_country</th>\n",
       "      <th>first_join_date</th>\n",
       "      <th>age</th>\n",
       "    </tr>\n",
       "  </thead>\n",
       "  <tbody>\n",
       "    <tr>\n",
       "      <th>108</th>\n",
       "      <td>28128</td>\n",
       "      <td>Samsul</td>\n",
       "      <td>Dabukke</td>\n",
       "      <td>005b3146-62ee-45c2-9474-affac76493ec</td>\n",
       "      <td>005b3146_62ee_45c2_9474_affac76493ec@zakyfound...</td>\n",
       "      <td>M</td>\n",
       "      <td>1975-10-07</td>\n",
       "      <td>iOS</td>\n",
       "      <td>2647c2b7-c6da-4cb5-bcea-9591ad9c565a</td>\n",
       "      <td>iPhone; CPU iPhone OS 12_4_8 like Mac OS X</td>\n",
       "      <td>-8.088126</td>\n",
       "      <td>110.505761</td>\n",
       "      <td>Yogyakarta</td>\n",
       "      <td>Indonesia</td>\n",
       "      <td>2022-03-06</td>\n",
       "      <td>49</td>\n",
       "    </tr>\n",
       "    <tr>\n",
       "      <th>119</th>\n",
       "      <td>10225</td>\n",
       "      <td>Eli</td>\n",
       "      <td>Wijayanti</td>\n",
       "      <td>66da899f-4033-42e3-8f18-b415bbeb61d0</td>\n",
       "      <td>66da899f_4033_42e3_8f18_b415bbeb61d0@startupca...</td>\n",
       "      <td>F</td>\n",
       "      <td>1974-05-20</td>\n",
       "      <td>Android</td>\n",
       "      <td>41981909-f3c1-4dd7-9b21-1eb7c554d9e8</td>\n",
       "      <td>Android 2.3.6</td>\n",
       "      <td>-1.562462</td>\n",
       "      <td>110.393105</td>\n",
       "      <td>Kalimantan Barat</td>\n",
       "      <td>Indonesia</td>\n",
       "      <td>2021-01-17</td>\n",
       "      <td>50</td>\n",
       "    </tr>\n",
       "    <tr>\n",
       "      <th>207</th>\n",
       "      <td>57901</td>\n",
       "      <td>Devi</td>\n",
       "      <td>Hastuti</td>\n",
       "      <td>cc3ebab7-0f94-4b95-a4fd-fbf9c7201bd5</td>\n",
       "      <td>cc3ebab7_0f94_4b95_a4fd_fbf9c7201bd5@zakyfound...</td>\n",
       "      <td>F</td>\n",
       "      <td>1973-09-27</td>\n",
       "      <td>Android</td>\n",
       "      <td>0d19b7e5-6ba0-4a2d-9b53-a6552bfe3820</td>\n",
       "      <td>Android 4.2.2</td>\n",
       "      <td>-8.362891</td>\n",
       "      <td>116.295390</td>\n",
       "      <td>Nusa Tenggara Barat</td>\n",
       "      <td>Indonesia</td>\n",
       "      <td>2017-07-08</td>\n",
       "      <td>51</td>\n",
       "    </tr>\n",
       "    <tr>\n",
       "      <th>442</th>\n",
       "      <td>70246</td>\n",
       "      <td>Anita</td>\n",
       "      <td>Mardhiyah</td>\n",
       "      <td>e59bcbe2-b5c2-4300-9e5b-247f86d704de</td>\n",
       "      <td>e59bcbe2_b5c2_4300_9e5b_247f86d704de@startupca...</td>\n",
       "      <td>F</td>\n",
       "      <td>1975-10-12</td>\n",
       "      <td>Android</td>\n",
       "      <td>6ebdcbb9-c8f6-48c0-9253-08d899886059</td>\n",
       "      <td>Android 2.3.7</td>\n",
       "      <td>-6.361084</td>\n",
       "      <td>106.895619</td>\n",
       "      <td>Jakarta Raya</td>\n",
       "      <td>Indonesia</td>\n",
       "      <td>2022-01-01</td>\n",
       "      <td>49</td>\n",
       "    </tr>\n",
       "    <tr>\n",
       "      <th>505</th>\n",
       "      <td>79632</td>\n",
       "      <td>Kambali</td>\n",
       "      <td>Saragih</td>\n",
       "      <td>21cd19c3-d94b-4d41-8880-f3e78111e10f</td>\n",
       "      <td>21cd19c3_d94b_4d41_8880_f3e78111e10f@startupca...</td>\n",
       "      <td>M</td>\n",
       "      <td>1973-01-18</td>\n",
       "      <td>Android</td>\n",
       "      <td>e443f348-bec6-480d-b861-f14d8a7aa14a</td>\n",
       "      <td>Android 5.0</td>\n",
       "      <td>-8.009821</td>\n",
       "      <td>114.223421</td>\n",
       "      <td>Jawa Timur</td>\n",
       "      <td>Indonesia</td>\n",
       "      <td>2022-03-26</td>\n",
       "      <td>52</td>\n",
       "    </tr>\n",
       "    <tr>\n",
       "      <th>...</th>\n",
       "      <td>...</td>\n",
       "      <td>...</td>\n",
       "      <td>...</td>\n",
       "      <td>...</td>\n",
       "      <td>...</td>\n",
       "      <td>...</td>\n",
       "      <td>...</td>\n",
       "      <td>...</td>\n",
       "      <td>...</td>\n",
       "      <td>...</td>\n",
       "      <td>...</td>\n",
       "      <td>...</td>\n",
       "      <td>...</td>\n",
       "      <td>...</td>\n",
       "      <td>...</td>\n",
       "      <td>...</td>\n",
       "    </tr>\n",
       "    <tr>\n",
       "      <th>99705</th>\n",
       "      <td>95224</td>\n",
       "      <td>Ikhsan</td>\n",
       "      <td>Maryadi</td>\n",
       "      <td>c5bc056d-ee7e-4478-abf4-ba4c9ec3d312</td>\n",
       "      <td>c5bc056d_ee7e_4478_abf4_ba4c9ec3d312@startupca...</td>\n",
       "      <td>M</td>\n",
       "      <td>1974-12-15</td>\n",
       "      <td>Android</td>\n",
       "      <td>512b578f-2bc3-4b0a-a741-7524cb1c108c</td>\n",
       "      <td>Android 7.1.2</td>\n",
       "      <td>-7.786895</td>\n",
       "      <td>110.387239</td>\n",
       "      <td>Yogyakarta</td>\n",
       "      <td>Indonesia</td>\n",
       "      <td>2022-01-09</td>\n",
       "      <td>50</td>\n",
       "    </tr>\n",
       "    <tr>\n",
       "      <th>99734</th>\n",
       "      <td>52864</td>\n",
       "      <td>Elisa</td>\n",
       "      <td>Laksita</td>\n",
       "      <td>1690bcb3-bd26-4983-a4da-f160f1d92434</td>\n",
       "      <td>1690bcb3_bd26_4983_a4da_f160f1d92434@zakyfound...</td>\n",
       "      <td>F</td>\n",
       "      <td>1975-07-24</td>\n",
       "      <td>Android</td>\n",
       "      <td>b7316783-6142-4f12-98e6-dbb93932eb9d</td>\n",
       "      <td>Android 10</td>\n",
       "      <td>-3.557473</td>\n",
       "      <td>130.307380</td>\n",
       "      <td>Maluku</td>\n",
       "      <td>Indonesia</td>\n",
       "      <td>2022-05-14</td>\n",
       "      <td>49</td>\n",
       "    </tr>\n",
       "    <tr>\n",
       "      <th>99813</th>\n",
       "      <td>33278</td>\n",
       "      <td>Ilsa</td>\n",
       "      <td>Yuliarti</td>\n",
       "      <td>d7ea2bdb-f396-4317-98dc-7243b46ba2ec</td>\n",
       "      <td>d7ea2bdb_f396_4317_98dc_7243b46ba2ec@startupca...</td>\n",
       "      <td>F</td>\n",
       "      <td>1974-02-01</td>\n",
       "      <td>Android</td>\n",
       "      <td>201fe4f1-c28f-44df-917a-1f342c7d06d6</td>\n",
       "      <td>Android 4.4.4</td>\n",
       "      <td>-3.637717</td>\n",
       "      <td>102.431031</td>\n",
       "      <td>Bengkulu</td>\n",
       "      <td>Indonesia</td>\n",
       "      <td>2020-03-28</td>\n",
       "      <td>51</td>\n",
       "    </tr>\n",
       "    <tr>\n",
       "      <th>99844</th>\n",
       "      <td>24550</td>\n",
       "      <td>Kamila</td>\n",
       "      <td>Maryati</td>\n",
       "      <td>a67c2f6c-661b-4ec0-953e-8dd319984e67</td>\n",
       "      <td>a67c2f6c_661b_4ec0_953e_8dd319984e67@zakyfound...</td>\n",
       "      <td>F</td>\n",
       "      <td>1974-09-20</td>\n",
       "      <td>Android</td>\n",
       "      <td>7b1a0c5d-859e-4acd-a2d7-e41eada2c4a3</td>\n",
       "      <td>Android 4.2</td>\n",
       "      <td>-7.271890</td>\n",
       "      <td>110.047244</td>\n",
       "      <td>Jawa Tengah</td>\n",
       "      <td>Indonesia</td>\n",
       "      <td>2018-06-03</td>\n",
       "      <td>50</td>\n",
       "    </tr>\n",
       "    <tr>\n",
       "      <th>99936</th>\n",
       "      <td>92408</td>\n",
       "      <td>Luis</td>\n",
       "      <td>Tamba</td>\n",
       "      <td>be34ab11-7f7e-4275-846c-955811dcd1de</td>\n",
       "      <td>be34ab11_7f7e_4275_846c_955811dcd1de@startupca...</td>\n",
       "      <td>M</td>\n",
       "      <td>1973-08-20</td>\n",
       "      <td>Android</td>\n",
       "      <td>ce7eae08-f07c-47b1-a70b-819d1d3e0309</td>\n",
       "      <td>Android 1.6</td>\n",
       "      <td>-8.140038</td>\n",
       "      <td>113.211490</td>\n",
       "      <td>Jawa Timur</td>\n",
       "      <td>Indonesia</td>\n",
       "      <td>2017-09-16</td>\n",
       "      <td>51</td>\n",
       "    </tr>\n",
       "  </tbody>\n",
       "</table>\n",
       "<p>997 rows × 16 columns</p>\n",
       "</div>"
      ],
      "text/plain": [
       "       customer_id first_name  last_name  \\\n",
       "108          28128     Samsul    Dabukke   \n",
       "119          10225        Eli  Wijayanti   \n",
       "207          57901       Devi    Hastuti   \n",
       "442          70246      Anita  Mardhiyah   \n",
       "505          79632    Kambali    Saragih   \n",
       "...            ...        ...        ...   \n",
       "99705        95224     Ikhsan    Maryadi   \n",
       "99734        52864      Elisa    Laksita   \n",
       "99813        33278       Ilsa   Yuliarti   \n",
       "99844        24550     Kamila    Maryati   \n",
       "99936        92408       Luis      Tamba   \n",
       "\n",
       "                                   username  \\\n",
       "108    005b3146-62ee-45c2-9474-affac76493ec   \n",
       "119    66da899f-4033-42e3-8f18-b415bbeb61d0   \n",
       "207    cc3ebab7-0f94-4b95-a4fd-fbf9c7201bd5   \n",
       "442    e59bcbe2-b5c2-4300-9e5b-247f86d704de   \n",
       "505    21cd19c3-d94b-4d41-8880-f3e78111e10f   \n",
       "...                                     ...   \n",
       "99705  c5bc056d-ee7e-4478-abf4-ba4c9ec3d312   \n",
       "99734  1690bcb3-bd26-4983-a4da-f160f1d92434   \n",
       "99813  d7ea2bdb-f396-4317-98dc-7243b46ba2ec   \n",
       "99844  a67c2f6c-661b-4ec0-953e-8dd319984e67   \n",
       "99936  be34ab11-7f7e-4275-846c-955811dcd1de   \n",
       "\n",
       "                                                   email gender  birthdate  \\\n",
       "108    005b3146_62ee_45c2_9474_affac76493ec@zakyfound...      M 1975-10-07   \n",
       "119    66da899f_4033_42e3_8f18_b415bbeb61d0@startupca...      F 1974-05-20   \n",
       "207    cc3ebab7_0f94_4b95_a4fd_fbf9c7201bd5@zakyfound...      F 1973-09-27   \n",
       "442    e59bcbe2_b5c2_4300_9e5b_247f86d704de@startupca...      F 1975-10-12   \n",
       "505    21cd19c3_d94b_4d41_8880_f3e78111e10f@startupca...      M 1973-01-18   \n",
       "...                                                  ...    ...        ...   \n",
       "99705  c5bc056d_ee7e_4478_abf4_ba4c9ec3d312@startupca...      M 1974-12-15   \n",
       "99734  1690bcb3_bd26_4983_a4da_f160f1d92434@zakyfound...      F 1975-07-24   \n",
       "99813  d7ea2bdb_f396_4317_98dc_7243b46ba2ec@startupca...      F 1974-02-01   \n",
       "99844  a67c2f6c_661b_4ec0_953e_8dd319984e67@zakyfound...      F 1974-09-20   \n",
       "99936  be34ab11_7f7e_4275_846c_955811dcd1de@startupca...      M 1973-08-20   \n",
       "\n",
       "      device_type                             device_id  \\\n",
       "108           iOS  2647c2b7-c6da-4cb5-bcea-9591ad9c565a   \n",
       "119       Android  41981909-f3c1-4dd7-9b21-1eb7c554d9e8   \n",
       "207       Android  0d19b7e5-6ba0-4a2d-9b53-a6552bfe3820   \n",
       "442       Android  6ebdcbb9-c8f6-48c0-9253-08d899886059   \n",
       "505       Android  e443f348-bec6-480d-b861-f14d8a7aa14a   \n",
       "...           ...                                   ...   \n",
       "99705     Android  512b578f-2bc3-4b0a-a741-7524cb1c108c   \n",
       "99734     Android  b7316783-6142-4f12-98e6-dbb93932eb9d   \n",
       "99813     Android  201fe4f1-c28f-44df-917a-1f342c7d06d6   \n",
       "99844     Android  7b1a0c5d-859e-4acd-a2d7-e41eada2c4a3   \n",
       "99936     Android  ce7eae08-f07c-47b1-a70b-819d1d3e0309   \n",
       "\n",
       "                                   device_version  home_location_lat  \\\n",
       "108    iPhone; CPU iPhone OS 12_4_8 like Mac OS X          -8.088126   \n",
       "119                                 Android 2.3.6          -1.562462   \n",
       "207                                 Android 4.2.2          -8.362891   \n",
       "442                                 Android 2.3.7          -6.361084   \n",
       "505                                   Android 5.0          -8.009821   \n",
       "...                                           ...                ...   \n",
       "99705                               Android 7.1.2          -7.786895   \n",
       "99734                                  Android 10          -3.557473   \n",
       "99813                               Android 4.4.4          -3.637717   \n",
       "99844                                 Android 4.2          -7.271890   \n",
       "99936                                 Android 1.6          -8.140038   \n",
       "\n",
       "       home_location_long        home_location home_country first_join_date  \\\n",
       "108            110.505761           Yogyakarta    Indonesia      2022-03-06   \n",
       "119            110.393105     Kalimantan Barat    Indonesia      2021-01-17   \n",
       "207            116.295390  Nusa Tenggara Barat    Indonesia      2017-07-08   \n",
       "442            106.895619         Jakarta Raya    Indonesia      2022-01-01   \n",
       "505            114.223421           Jawa Timur    Indonesia      2022-03-26   \n",
       "...                   ...                  ...          ...             ...   \n",
       "99705          110.387239           Yogyakarta    Indonesia      2022-01-09   \n",
       "99734          130.307380               Maluku    Indonesia      2022-05-14   \n",
       "99813          102.431031             Bengkulu    Indonesia      2020-03-28   \n",
       "99844          110.047244          Jawa Tengah    Indonesia      2018-06-03   \n",
       "99936          113.211490           Jawa Timur    Indonesia      2017-09-16   \n",
       "\n",
       "       age  \n",
       "108     49  \n",
       "119     50  \n",
       "207     51  \n",
       "442     49  \n",
       "505     52  \n",
       "...    ...  \n",
       "99705   50  \n",
       "99734   49  \n",
       "99813   51  \n",
       "99844   50  \n",
       "99936   51  \n",
       "\n",
       "[997 rows x 16 columns]"
      ]
     },
     "execution_count": 14,
     "metadata": {},
     "output_type": "execute_result"
    }
   ],
   "source": [
    "age_outliers = find_outliers_IQR(df=df, column='age')\n",
    "age_outliers"
   ]
  },
  {
   "cell_type": "code",
   "execution_count": null,
   "metadata": {},
   "outputs": [
    {
     "data": {
      "image/png": "[encoded data removed]",
      "text/plain": [
       "<Figure size 800x600 with 1 Axes>"
      ]
     },
     "metadata": {},
     "output_type": "display_data"
    }
   ],
   "source": [
    "df = remove_outliers(df=df, column='age')\n",
    "\n",
    "#check for outlier again with the boxplot\n",
    "\n",
    "find_outlier_box_plot(df=df, column='age')"
   ]
  },
  {
   "cell_type": "code",
   "execution_count": null,
   "metadata": {},
   "outputs": [
    {
     "data": {
      "text/html": [
       "<div>\n",
       "<style scoped>\n",
       "    .dataframe tbody tr th:only-of-type {\n",
       "        vertical-align: middle;\n",
       "    }\n",
       "\n",
       "    .dataframe tbody tr th {\n",
       "        vertical-align: top;\n",
       "    }\n",
       "\n",
       "    .dataframe thead th {\n",
       "        text-align: right;\n",
       "    }\n",
       "</style>\n",
       "<table border=\"1\" class=\"dataframe\">\n",
       "  <thead>\n",
       "    <tr style=\"text-align: right;\">\n",
       "      <th></th>\n",
       "      <th>home_location</th>\n",
       "      <th>count</th>\n",
       "    </tr>\n",
       "  </thead>\n",
       "  <tbody>\n",
       "    <tr>\n",
       "      <th>0</th>\n",
       "      <td>Jakarta Raya</td>\n",
       "      <td>18559</td>\n",
       "    </tr>\n",
       "    <tr>\n",
       "      <th>1</th>\n",
       "      <td>Jawa Barat</td>\n",
       "      <td>11404</td>\n",
       "    </tr>\n",
       "    <tr>\n",
       "      <th>2</th>\n",
       "      <td>Jawa Tengah</td>\n",
       "      <td>10880</td>\n",
       "    </tr>\n",
       "    <tr>\n",
       "      <th>3</th>\n",
       "      <td>Jawa Timur</td>\n",
       "      <td>9882</td>\n",
       "    </tr>\n",
       "    <tr>\n",
       "      <th>4</th>\n",
       "      <td>Yogyakarta</td>\n",
       "      <td>7792</td>\n",
       "    </tr>\n",
       "    <tr>\n",
       "      <th>5</th>\n",
       "      <td>Kalimantan Barat</td>\n",
       "      <td>5551</td>\n",
       "    </tr>\n",
       "    <tr>\n",
       "      <th>6</th>\n",
       "      <td>Lampung</td>\n",
       "      <td>5385</td>\n",
       "    </tr>\n",
       "    <tr>\n",
       "      <th>7</th>\n",
       "      <td>Kalimantan Selatan</td>\n",
       "      <td>4200</td>\n",
       "    </tr>\n",
       "    <tr>\n",
       "      <th>8</th>\n",
       "      <td>Kalimantan Tengah</td>\n",
       "      <td>4059</td>\n",
       "    </tr>\n",
       "    <tr>\n",
       "      <th>9</th>\n",
       "      <td>Kalimantan Timur</td>\n",
       "      <td>2705</td>\n",
       "    </tr>\n",
       "  </tbody>\n",
       "</table>\n",
       "</div>"
      ],
      "text/plain": [
       "        home_location  count\n",
       "0        Jakarta Raya  18559\n",
       "1          Jawa Barat  11404\n",
       "2         Jawa Tengah  10880\n",
       "3          Jawa Timur   9882\n",
       "4          Yogyakarta   7792\n",
       "5    Kalimantan Barat   5551\n",
       "6             Lampung   5385\n",
       "7  Kalimantan Selatan   4200\n",
       "8   Kalimantan Tengah   4059\n",
       "9    Kalimantan Timur   2705"
      ]
     },
     "execution_count": 36,
     "metadata": {},
     "output_type": "execute_result"
    }
   ],
   "source": [
    "# top ten locations with the highest number of customers\n",
    "top_10_countries = df['home_location'].value_counts().head(10).reset_index()\n",
    "top_10_countries"
   ]
  },
  {
   "cell_type": "code",
   "execution_count": null,
   "metadata": {},
   "outputs": [],
   "source": []
  },
  {
   "cell_type": "code",
   "execution_count": null,
   "metadata": {},
   "outputs": [
    {
     "data": {
      "image/png": "[encoded data removed]",
      "text/plain": [
       "<Figure size 640x480 with 1 Axes>"
      ]
     },
     "metadata": {},
     "output_type": "display_data"
    }
   ],
   "source": [
    "# plot bar graph of device_type count column\n",
    "device_type_counts = df['device_type'].value_counts()\n",
    "device_type_counts.plot(kind='bar', title='Device Type Counts')\n",
    "plt.show()"
   ]
  },
  {
   "cell_type": "code",
   "execution_count": null,
   "metadata": {},
   "outputs": [
    {
     "data": {
      "image/png": "[encoded data removed]",
      "text/plain": [
       "<Figure size 640x480 with 1 Axes>"
      ]
     },
     "metadata": {},
     "output_type": "display_data"
    }
   ],
   "source": [
    "# plot bar graph to show demographic distribution of customers\n",
    "\n",
    "demographic_counts = df['gender'].value_counts()\n",
    "demographic_counts.plot(kind='bar', title = 'Gender distribution')\n",
    "plt.show()"
   ]
  },
  {
   "cell_type": "code",
   "execution_count": null,
   "metadata": {},
   "outputs": [
    {
     "data": {
      "image/png": "[encoded data removed]",
      "text/plain": [
       "<Figure size 640x480 with 1 Axes>"
      ]
     },
     "metadata": {},
     "output_type": "display_data"
    }
   ],
   "source": [
    "# plot bar graph to show distribution of customers by home_location\n",
    "\n",
    "home_country_counts = df['home_location'].value_counts()\n",
    "home_country_counts.plot(kind='bar', title='Home Country Distribution')\n",
    "plt.show()\n",
    "\n",
    "\n"
   ]
  },
  {
   "cell_type": "code",
   "execution_count": null,
   "metadata": {},
   "outputs": [],
   "source": []
  },
  {
   "cell_type": "code",
   "execution_count": null,
   "metadata": {},
   "outputs": [],
   "source": []
  }
 ],
 "metadata": {
  "kernelspec": {
   "display_name": "myenv",
   "language": "python",
   "name": "python3"
  },
  "language_info": {
   "codemirror_mode": {
    "name": "ipython",
    "version": 3
   },
   "file_extension": ".py",
   "mimetype": "text/x-python",
   "name": "python",
   "nbconvert_exporter": "python",
   "pygments_lexer": "ipython3",
   "version": "3.12.0"
  }
 },
 "nbformat": 4,
 "nbformat_minor": 2
}
